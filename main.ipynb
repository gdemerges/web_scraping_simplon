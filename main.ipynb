{
 "cells": [
  {
   "cell_type": "code",
   "execution_count": 2,
   "metadata": {},
   "outputs": [
    {
     "name": "stdout",
     "output_type": "stream",
     "text": [
      "Les données ont été enregistrées dans le fichier data/jobs_sanofi_2024-03-13.csv.\n",
      "             ID                                             Poste        Ville           Pays        Date\n",
      "0   57867792720      Digitalents Graduate Program - Data Engineer  Bridgewater     New Jersey  03/10/2024\n",
      "1   62002704208                Data Engineer Manager - Commercial     Budapest        Hongrie  02/29/2024\n",
      "2   60345132464              Data Engineer - Research Data domain    Cambridge  Massachusetts  03/07/2024\n",
      "3   61414226960  Accelerator - Digital Data Engineer - All Gender        Paris         France  02/29/2024\n",
      "4   57204130448                            Data Platform Engineer     Budapest        Hongrie  03/02/2024\n",
      "5   55381694016                    Data Platform Engineer Analyst    Hyderabad           Inde  10/06/2023\n",
      "6   56015072080                    Data Platform Engineer Analyst     Budapest        Hongrie  02/29/2024\n",
      "7   56015074112                 Data Platform Engineer Specialist     Budapest        Hongrie  02/29/2024\n",
      "8   55092993008                 Data Platform Engineer Specialist      Toronto         Canada  01/03/2024\n",
      "9   55381689616                 Data Platform Engineer Specialist    Hyderabad           Inde  10/06/2023\n",
      "10  57867792720      Digitalents Graduate Program - Data Engineer  Bridgewater     New Jersey  03/10/2024\n",
      "11  62002704208                Data Engineer Manager - Commercial     Budapest        Hongrie  02/29/2024\n",
      "12  60345132464              Data Engineer - Research Data domain    Cambridge  Massachusetts  03/07/2024\n",
      "13  61414226960  Accelerator - Digital Data Engineer - All Gender        Paris         France  02/29/2024\n",
      "14  57204130448                            Data Platform Engineer     Budapest        Hongrie  03/02/2024\n",
      "15  55381694016                    Data Platform Engineer Analyst    Hyderabad           Inde  10/06/2023\n",
      "16  56015072080                    Data Platform Engineer Analyst     Budapest        Hongrie  02/29/2024\n",
      "17  56015074112                 Data Platform Engineer Specialist     Budapest        Hongrie  02/29/2024\n",
      "18  55092993008                 Data Platform Engineer Specialist      Toronto         Canada  01/03/2024\n",
      "19  55381689616                 Data Platform Engineer Specialist    Hyderabad           Inde  10/06/2023\n"
     ]
    }
   ],
   "source": [
    "import Sanofi.web_scraping_sanofi as web_scraping_sanofi\n",
    "\n",
    "web_scraping_sanofi.main(2)"
   ]
  },
  {
   "cell_type": "code",
   "execution_count": 7,
   "metadata": {},
   "outputs": [
    {
     "name": "stdout",
     "output_type": "stream",
     "text": [
      "/Users/guillaumedemerges/code/web_scraping_simplon/Sanofi\n"
     ]
    }
   ],
   "source": [
    "!pwd"
   ]
  },
  {
   "cell_type": "code",
   "execution_count": 9,
   "metadata": {},
   "outputs": [
    {
     "name": "stdout",
     "output_type": "stream",
     "text": [
      "\u001b[1m\u001b[36m__pycache__\u001b[m\u001b[m            main.ipynb             \u001b[31mweb_scraping_sanofi.py\u001b[m\u001b[m\n"
     ]
    }
   ],
   "source": [
    "!ls"
   ]
  },
  {
   "cell_type": "code",
   "execution_count": null,
   "metadata": {},
   "outputs": [],
   "source": []
  }
 ],
 "metadata": {
  "kernelspec": {
   "display_name": "Python 3",
   "language": "python",
   "name": "python3"
  },
  "language_info": {
   "codemirror_mode": {
    "name": "ipython",
    "version": 3
   },
   "file_extension": ".py",
   "mimetype": "text/x-python",
   "name": "python",
   "nbconvert_exporter": "python",
   "pygments_lexer": "ipython3",
   "version": "3.10.6"
  }
 },
 "nbformat": 4,
 "nbformat_minor": 2
}
