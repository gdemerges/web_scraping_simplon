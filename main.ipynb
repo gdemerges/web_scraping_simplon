{
 "cells": [
  {
   "cell_type": "code",
   "execution_count": 2,
   "metadata": {},
   "outputs": [
    {
     "name": "stdout",
     "output_type": "stream",
     "text": [
      "Les données ont été enregistrées dans le fichier data/jobs_sanofi_2024-03-13.csv.\n",
      "             ID                                             Poste        Ville           Pays        Date\n",
      "0   57867792720      Digitalents Graduate Program - Data Engineer  Bridgewater     New Jersey  03/10/2024\n",
      "1   62002704208                Data Engineer Manager - Commercial     Budapest        Hongrie  02/29/2024\n",
      "2   60345132464              Data Engineer - Research Data domain    Cambridge  Massachusetts  03/07/2024\n",
      "3   61414226960  Accelerator - Digital Data Engineer - All Gender        Paris         France  02/29/2024\n",
      "4   57204130448                            Data Platform Engineer     Budapest        Hongrie  03/02/2024\n",
      "5   55381694016                    Data Platform Engineer Analyst    Hyderabad           Inde  10/06/2023\n",
      "6   56015072080                    Data Platform Engineer Analyst     Budapest        Hongrie  02/29/2024\n",
      "7   56015074112                 Data Platform Engineer Specialist     Budapest        Hongrie  02/29/2024\n",
      "8   55092993008                 Data Platform Engineer Specialist      Toronto         Canada  01/03/2024\n",
      "9   55381689616                 Data Platform Engineer Specialist    Hyderabad           Inde  10/06/2023\n",
      "10  57867792720      Digitalents Graduate Program - Data Engineer  Bridgewater     New Jersey  03/10/2024\n",
      "11  62002704208                Data Engineer Manager - Commercial     Budapest        Hongrie  02/29/2024\n",
      "12  60345132464              Data Engineer - Research Data domain    Cambridge  Massachusetts  03/07/2024\n",
      "13  61414226960  Accelerator - Digital Data Engineer - All Gender        Paris         France  02/29/2024\n",
      "14  57204130448                            Data Platform Engineer     Budapest        Hongrie  03/02/2024\n",
      "15  55381694016                    Data Platform Engineer Analyst    Hyderabad           Inde  10/06/2023\n",
      "16  56015072080                    Data Platform Engineer Analyst     Budapest        Hongrie  02/29/2024\n",
      "17  56015074112                 Data Platform Engineer Specialist     Budapest        Hongrie  02/29/2024\n",
      "18  55092993008                 Data Platform Engineer Specialist      Toronto         Canada  01/03/2024\n",
      "19  55381689616                 Data Platform Engineer Specialist    Hyderabad           Inde  10/06/2023\n"
     ]
    }
   ],
   "source": [
    "import Sanofi.web_scraping_sanofi as web_scraping_sanofi\n",
    "\n",
    "web_scraping_sanofi.main(2)"
   ]
  },
  {
   "cell_type": "code",
   "execution_count": 4,
   "metadata": {},
   "outputs": [
    {
     "name": "stdout",
     "output_type": "stream",
     "text": [
      "                                                                                                                                    Emploi                                                       Employeur        Type de Contrat                   Lieu              Télétravail                        Salaire Date de publication\n",
      "0                                                                                                                       Data Scientist H/F                                                           Pulse                    CDI           Lyon 2e - 69      Télétravail partiel       38000 - 44000 EUR par an          11/03/2024\n",
      "1                                                                                                                       Data Scientist H/F                                                 Alliade Habitat                    CDI           Lyon 7e - 69      Télétravail partiel                   Non Spécifié          04/03/2024\n",
      "2                                                                                                            Data Scientist Industriel H/F                                                       Framatome                    CDI              Lyon - 69      Télétravail partiel       55000 - 70000 EUR par an          10/03/2024\n",
      "3                                                                                                           Data Scientist IA - Senior H/F                                                         AquisIT                    CDI          Lyon 1er - 69  Télétravail occasionnel                   Non Spécifié          08/03/2024\n",
      "4                                                                                         Data Scientist - Développement Deep Learning H/F                                                           Celad                    CDI          Lyon 1er - 69      Télétravail partiel                   Non Spécifié          06/03/2024\n",
      "5                                                                                                                       Data Scientist H/F                                                       Docaposte                    CDI              Lyon - 69      Télétravail partiel                   Non Spécifié          16/02/2024\n",
      "6                                                                                                          Alternance - Data Scientist H/F  GROUPE GEMA - ESI BUSINESS SCHOOL / IA SCHOOL (Siège National)             Alternance              Lyon - 69  Télétravail occasionnel                   Non Spécifié          18/02/2024\n",
      "7                                                                                                                       Data Scientist H/F                                       LHH Recruitment Solutions                    CDI      Villeurbanne - 69             Non Spécifié       40000 - 46000 EUR par an          02/03/2024\n",
      "8                                                                                                             Alternant Data Scientist H/F                                                            SUEZ             Alternance          Brignais - 69      Télétravail partiel  477,07 - 1766,92 EUR par mois          02/03/2024\n",
      "9                                                                                                    Ingenieur Projet - Data Scientist H/F                                                         Kuribay                    CDI  Décines-Charpieu - 69             Non Spécifié                   Non Spécifié    il y a 11 heures\n",
      "10                                                                                              Data Scientist - en Alternance - Rhône H/F                                                           APRIL             Alternance           Lyon 3e - 69      Télétravail partiel  477,07 - 1766,92 EUR par mois          12/02/2024\n",
      "11                                                                                                        Alternance IA Data Scientist H/F                                                   Dimo Software             Alternance          Limonest - 69  Télétravail occasionnel  477,07 - 1766,92 EUR par mois          07/03/2024\n",
      "12                                                                    Référent Technique - Actuariat en Santé et Prévoyance Collective H/F                                                           APRIL                    CDI              Lyon - 69      Télétravail partiel                   Non Spécifié     il y a 9 heures\n",
      "13                                                                                   Graduate Program - Data Scientist Cab Engineering H/F                                                     Volvo Group                    CDI      Saint-Priest - 69      Télétravail partiel                   Non Spécifié          26/02/2024\n",
      "14                                                                                   Graduate Program - Data Scientist Cab Engineering H/F                                                     Volvo Group                    CDI      Saint-Priest - 69             Non Spécifié                   Non Spécifié          26/02/2024\n",
      "15                                                                                                           Alternance - Data Analyse H/F                                                          Sanofi             Alternance          Lyon 1er - 69             Non Spécifié  477,07 - 1766,92 EUR par mois          28/02/2024\n",
      "16                                                                                                         Alternance - Data Scientist H/F  GROUPE GEMA - ESI BUSINESS SCHOOL / IA SCHOOL (Siège National)             Alternance                 France  Télétravail occasionnel                   Non Spécifié          27/02/2024\n",
      "17                                                                                          Alternance - Data Analyst - Data Scientist H/F                                                        Michelin             Alternance                 France             Non Spécifié       1539 - 1630 EUR par mois                hier\n",
      "18                                                                                                 Alternant Bac+5 Mastère - Data & IA H/F                                                     Live Campus             Alternance                 France      Télétravail partiel  477,07 - 1766,92 EUR par mois          01/03/2024\n",
      "19                                                                                                                      Data Scientist H/F                                                         Andrice                    CDI           Lyon 2e - 69             Non Spécifié                   Non Spécifié          07/03/2024\n",
      "20                                                                                 Data Visualization And Analytics Lead - All Genders H/F                                                          Sanofi                    CDI          Lyon 1er - 69             Non Spécifié                   Non Spécifié          17/02/2024\n",
      "21                                                                                                      Data Engineering - All Genders H/F                                                          Sanofi                    CDI          Lyon 1er - 69      Télétravail partiel                   Non Spécifié          17/02/2024\n",
      "22                                                                                           Head Cmc Data Science - Vcds - All Gender H/F                                                          Sanofi                    CDI    Marcy-l'Étoile - 69      Télétravail partiel                   Non Spécifié          22/02/2024\n",
      "23                                                                                                 Data Scientist Ãžle-De-France 92 Fr H/F                                                        Jobs2web                    CDI                 France             Non Spécifié                   Non Spécifié          24/02/2024\n",
      "24                                                                                                                  Data Product Owner H/F                                                           Umake                    CDI              Lyon - 69      Télétravail partiel       40000 - 60000 EUR par an      il y a 1 heure\n",
      "25                                                                                                                Développeur Big Data H/F                                                        Econocom                    CDI              Lyon - 69  Télétravail occasionnel                   Non Spécifié          23/02/2024\n",
      "26                                                                                                                        Data Analyst H/F                                                   PERSUADERS RH                    CDI              Lyon - 69      Télétravail partiel                   Non Spécifié          12/03/2024\n",
      "27                                                                      Chargé d'Études Actuarielles - Actuaire - Assurance Emprunteur H/F                                                           APRIL                    CDI           Lyon 3e - 69      Télétravail partiel                   Non Spécifié          09/03/2024\n",
      "28                                                                                                                Data Engineer Talend H/F                                                        Smily RH                    CDI              Lyon - 69  Télétravail occasionnel       45000 - 55000 EUR par an          07/03/2024\n",
      "29                                                                                                                        Data Analyst H/F                                                         Akkodis                    CDI              Lyon - 69             Non Spécifié                   Non Spécifié          12/03/2024\n",
      "30                                                                     Chargé d'Études Actuarielles - Actuaire - en Alternance - Rhône H/F                                                           APRIL             Alternance           Lyon 3e - 69      Télétravail partiel  477,07 - 1766,92 EUR par mois          03/03/2024\n",
      "31                                                                                                     Concepteur-Développeur Big Data H/F                                                        Utigroup                    CDI              Lyon - 69  Télétravail occasionnel       42000 - 45000 EUR par an          27/02/2024\n",
      "32                                                                                                                  Data Analyst - CDI H/F                                                         Viatris                    CDI           Lyon 7e - 69             Non Spécifié                   Non Spécifié          01/03/2024\n",
      "33                                                                                                                       Data Engineer H/F                                                           Extia                    CDI          Lyon 1er - 69  Télétravail occasionnel                   Non Spécifié          08/03/2024\n",
      "34                                                                                                                       Data Engineer H/F                                                          Alptis                    CDI           Lyon 3e - 69      Télétravail partiel       55000 - 60000 EUR par an          13/02/2024\n",
      "35                                                                                           Expert Suite Bureautique Microsoft Office H/F                                                             EDF                    CDI              Lyon - 69      Télétravail partiel                   Non Spécifié    il y a 11 heures\n",
      "36                                                                                                  Développeur Back-End PHP & Symfony H/F                                                   Cabinet Fitae                    CDI           Lyon 3e - 69  Télétravail occasionnel       38000 - 41000 EUR par an          24/02/2024\n",
      "37                                                                                      Lead Data Engineer Azure-Python en Full-Remote H/F                                                Havana IT & Apps  Indépendant/Freelance                 France      Télétravail complet         700 - 900 EUR par jour          07/03/2024\n",
      "38                                                                                                           Reserviste - Data Analyst H/F                                             La Marine Nationale                    CDD                 France             Non Spécifié                   Non Spécifié          01/03/2024\n",
      "39                                                                                             Soredab Ingénieur en Data Science Stage H/F                                                         Soredab                  Stage                 France             Non Spécifié                   Non Spécifié          28/02/2024\n",
      "40  Développeur Fullstack Dominante Back- Node Js - Full Remote - Client Final Leader Tech RH' - Rémunération Compétitive Selon Profil H/F                                                 L2C Recrutement                    CDI                 France      Télétravail complet       55000 - 80000 EUR par an          28/02/2024\n",
      "41                                                                                                                       Data Engineer H/F                                              Ippon Technologies                    CDI          Lyon 1er - 69      Télétravail partiel                   Non Spécifié          01/03/2024\n",
      "42                                                                                                           Développeur.e Futur.e Cto H/F                                                        Pulsalys                    CDI          Lyon 1er - 69             Non Spécifié                   Non Spécifié          16/02/2024\n",
      "43                                                                                                       Ml Ops Engineer - All Genders H/F                                                          Sanofi                    CDI          Lyon 1er - 69             Non Spécifié                   Non Spécifié          10/03/2024\n",
      "44                                                                                            Consultant Data Science - Bureau de Lyon H/F                                                    Sia Partners                    CDI          Lyon 1er - 69             Non Spécifié                   Non Spécifié          19/02/2024\n",
      "45                                                                               Mrna Principal Process Cmc Statistician - All Genders H/F                                                          Sanofi                    CDI    Marcy-l'Étoile - 69             Non Spécifié                   Non Spécifié          16/02/2024\n",
      "46                                                                                        Vaccines - Principal Scientist - All Genders H/F                                                          Sanofi                    CDI    Marcy-l'Étoile - 69             Non Spécifié                   Non Spécifié          10/03/2024\n",
      "47                                                                                                                  Health Underwriter H/F                                                            Alan                    CDI                 France      Télétravail complet                   Non Spécifié                hier\n",
      "48                                                                                                              Senior Product Manager H/F                                                            Alan                    CDI                 France      Télétravail complet                   Non Spécifié          24/02/2024\n"
     ]
    }
   ],
   "source": [
    "import HelloWork.hellowork as hellowork\n",
    "\n",
    "hellowork.main(3)"
   ]
  }
 ],
 "metadata": {
  "kernelspec": {
   "display_name": "Python 3",
   "language": "python",
   "name": "python3"
  },
  "language_info": {
   "codemirror_mode": {
    "name": "ipython",
    "version": 3
   },
   "file_extension": ".py",
   "mimetype": "text/x-python",
   "name": "python",
   "nbconvert_exporter": "python",
   "pygments_lexer": "ipython3",
   "version": "3.10.6"
  }
 },
 "nbformat": 4,
 "nbformat_minor": 2
}
